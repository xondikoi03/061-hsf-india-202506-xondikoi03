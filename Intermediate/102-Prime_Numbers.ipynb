{
 "cells": [
  {
   "cell_type": "markdown",
   "id": "7f5b2875-64b4-4fea-a59e-6a45c3f299d0",
   "metadata": {},
   "source": [
    "## Sieve of Erasthoneses Method\n"
   ]
  },
  {
   "cell_type": "code",
   "execution_count": 1,
   "id": "5414d7ac-b59e-4d47-b0b3-4422818f78df",
   "metadata": {},
   "outputs": [],
   "source": [
    "import numpy as np"
   ]
  },
  {
   "cell_type": "code",
   "execution_count": 2,
   "id": "e90dd8a2-a691-40f2-831f-66f7f86c1f15",
   "metadata": {},
   "outputs": [
    {
     "ename": "NameError",
     "evalue": "name 'p' is not defined",
     "output_type": "error",
     "traceback": [
      "\u001b[0;31m---------------------------------------------------------------------------\u001b[0m",
      "\u001b[0;31mNameError\u001b[0m                                 Traceback (most recent call last)",
      "Cell \u001b[0;32mIn[2], line 7\u001b[0m\n\u001b[1;32m      4\u001b[0m init_val \u001b[38;5;241m=\u001b[39m \u001b[38;5;241m2\u001b[39m\n\u001b[1;32m      6\u001b[0m \u001b[38;5;66;03m# We want to check if the primes\u001b[39;00m\n\u001b[0;32m----> 7\u001b[0m \u001b[38;5;28;01mwhile\u001b[39;00m(\u001b[43mp\u001b[49m\u001b[38;5;241m*\u001b[39mp \u001b[38;5;241m<\u001b[39m\u001b[38;5;241m=\u001b[39m n):\n\u001b[1;32m      8\u001b[0m     \u001b[38;5;28;01mif\u001b[39;00m prime_nos[i]\u001b[38;5;241m==\u001b[39m\u001b[38;5;28;01mTrue\u001b[39;00m:\n\u001b[1;32m      9\u001b[0m         \u001b[38;5;66;03m# looping over the multiples of the primes\u001b[39;00m\n\u001b[1;32m     10\u001b[0m         \u001b[38;5;28;01mfor\u001b[39;00m i \u001b[38;5;129;01min\u001b[39;00m \u001b[38;5;28mrange\u001b[39m(p\u001b[38;5;241m*\u001b[39mp, n, p):\n",
      "\u001b[0;31mNameError\u001b[0m: name 'p' is not defined"
     ]
    }
   ],
   "source": [
    "# Creating an boolean array where each value is set to true and whenever the algorithm will find a non-prime, the item will be turned false\n",
    "n = 100\n",
    "prime_nos = [True for i in range (n)]\n",
    "p = 2\n",
    "\n",
    "# We want to check if the primes\n",
    "while(p*p <= n):\n",
    "    if prime_nos[i]==True:\n",
    "        # looping over the multiples of the primes\n",
    "        for i in range(p*p, n, p):\n",
    "            prime_nos[i] = False\n",
    "    # \n",
    "    p =+1   "
   ]
  },
  {
   "cell_type": "code",
   "execution_count": null,
   "id": "dbaa128d-3b3c-45a1-9ee1-6b3e8dd71108",
   "metadata": {},
   "outputs": [],
   "source": [
    "# printing the primes\n",
    "\n",
    "for p in range(init_val, n):\n",
    "    if prime_nos[p]:\n",
    "        print(p)"
   ]
  },
  {
   "cell_type": "code",
   "execution_count": null,
   "id": "71933957-23b3-4b57-9c84-985e5c8b0980",
   "metadata": {},
   "outputs": [],
   "source": []
  }
 ],
 "metadata": {
  "kernelspec": {
   "display_name": "Python 3 (ipykernel)",
   "language": "python",
   "name": "python3"
  },
  "language_info": {
   "codemirror_mode": {
    "name": "ipython",
    "version": 3
   },
   "file_extension": ".py",
   "mimetype": "text/x-python",
   "name": "python",
   "nbconvert_exporter": "python",
   "pygments_lexer": "ipython3",
   "version": "3.10.18"
  }
 },
 "nbformat": 4,
 "nbformat_minor": 5
}
