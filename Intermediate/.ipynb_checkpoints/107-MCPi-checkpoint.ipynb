{
 "cells": [
  {
   "cell_type": "code",
   "execution_count": 2,
   "id": "c8e8098e-09fa-461e-a0ad-ca76ff48d29d",
   "metadata": {},
   "outputs": [],
   "source": [
    "import numpy as np"
   ]
  },
  {
   "cell_type": "markdown",
   "id": "365371de-5f89-4dfe-bf0d-add9c090d23f",
   "metadata": {},
   "source": [
    "## Part 1 - Calculate the value of $\\pi$ using the Monte Carlo “rejection” method, by placing a unit circle within a square of side-length 2."
   ]
  },
  {
   "cell_type": "code",
   "execution_count": 14,
   "id": "83ed58cb-878e-4171-9ee9-a4d811712ef3",
   "metadata": {},
   "outputs": [],
   "source": [
    "# Let us consider making a counter for randomly generated points\n",
    "pts_Sqr = 0\n",
    "pts_Circ = 0\n",
    "# number of iterations\n",
    "n=1000\n",
    "for i in range(n**2):\n",
    "    random_x = np.random.uniform(-1,1)\n",
    "    random_y = np.random.uniform(-1,1)\n",
    "    # checking if the points are inside the circle\n",
    "    chk_dist = random_x**2 + random_y**2\n",
    "\n",
    "    if(chk_dist <= 1):\n",
    "        pts_Circ +=1\n",
    "    pts_Sqr += 1\n",
    "\n",
    "    # Calculating the pi-value\n",
    "    pi = 4 * (pts_Circ/pts_Sqr)"
   ]
  },
  {
   "cell_type": "code",
   "execution_count": 15,
   "id": "c351088c-51b8-455a-9751-68e4447c7982",
   "metadata": {},
   "outputs": [
    {
     "name": "stdout",
     "output_type": "stream",
     "text": [
      "The estimated value of pi is: 3.141168\n"
     ]
    }
   ],
   "source": [
    "print(f\"The estimated value of pi is: {pi}\")"
   ]
  },
  {
   "cell_type": "markdown",
   "id": "9cd24e56-1b11-4587-810d-31c029576bef",
   "metadata": {},
   "source": [
    "## Part 2 - Imagine that the top part of the circle is sliced off horizontally above a given $y_{crop}$ (where $-1.0<y_{crop}<1.0$). What is the area of the remaining part of the circle?"
   ]
  },
  {
   "cell_type": "code",
   "execution_count": null,
   "id": "0ca4472e-4413-4497-945a-a94217aecc39",
   "metadata": {},
   "outputs": [],
   "source": []
  }
 ],
 "metadata": {
  "kernelspec": {
   "display_name": "Python 3 (ipykernel)",
   "language": "python",
   "name": "python3"
  },
  "language_info": {
   "codemirror_mode": {
    "name": "ipython",
    "version": 3
   },
   "file_extension": ".py",
   "mimetype": "text/x-python",
   "name": "python",
   "nbconvert_exporter": "python",
   "pygments_lexer": "ipython3",
   "version": "3.10.18"
  }
 },
 "nbformat": 4,
 "nbformat_minor": 5
}
