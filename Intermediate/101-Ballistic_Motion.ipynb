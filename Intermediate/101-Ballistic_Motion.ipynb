{
 "cells": [
  {
   "cell_type": "markdown",
   "id": "8d695b13-60d5-4590-ae71-e39c97148ab5",
   "metadata": {},
   "source": [
    "## Exercise 1"
   ]
  },
  {
   "cell_type": "code",
   "execution_count": 6,
   "id": "8b19a760-829b-42fe-a2e4-28b5b7f71d58",
   "metadata": {},
   "outputs": [],
   "source": [
    "import matplotlib.pyplot as plt\n",
    "import numpy as np\n",
    "import math"
   ]
  },
  {
   "cell_type": "code",
   "execution_count": 58,
   "id": "4cffafce-fba4-4d86-9766-494d81ebbeec",
   "metadata": {},
   "outputs": [],
   "source": [
    "def ballistic_motion(v0, theta):\n",
    "    g = 9.8\n",
    "    # range of the projectile\n",
    "    r = ((v0**2)*np.sin(2*theta))/g\n",
    "    # time of flight\n",
    "    t = (2*v0*np.sin(theta))/g\n",
    "    # velocity components\n",
    "    v_0x = v0*np.cos(theta)\n",
    "    v_0y = v0*np.sin(theta)\n",
    "    #equations of motion\n",
    "    x = v_0x*t\n",
    "    y = v_0y*t - ((1/2)*g*t**2)\n",
    "    return x, y"
   ]
  },
  {
   "cell_type": "code",
   "execution_count": 66,
   "id": "d05e187a-15be-4dd5-a30f-d034f5d6c9c6",
   "metadata": {},
   "outputs": [
    {
     "ename": "TypeError",
     "evalue": "only length-1 arrays can be converted to Python scalars",
     "output_type": "error",
     "traceback": [
      "\u001b[0;31m---------------------------------------------------------------------------\u001b[0m",
      "\u001b[0;31mTypeError\u001b[0m                                 Traceback (most recent call last)",
      "Cell \u001b[0;32mIn[66], line 2\u001b[0m\n\u001b[1;32m      1\u001b[0m theta \u001b[38;5;241m=\u001b[39m np\u001b[38;5;241m.\u001b[39mlinspace(\u001b[38;5;241m0\u001b[39m, np\u001b[38;5;241m.\u001b[39mpi\u001b[38;5;241m/\u001b[39m\u001b[38;5;241m2\u001b[39m, \u001b[38;5;241m100\u001b[39m)\n\u001b[0;32m----> 2\u001b[0m x, y \u001b[38;5;241m=\u001b[39m \u001b[43mballistic_motion\u001b[49m\u001b[43m(\u001b[49m\u001b[38;5;241;43m5\u001b[39;49m\u001b[43m,\u001b[49m\u001b[43mtheta\u001b[49m\u001b[43m)\u001b[49m\n",
      "Cell \u001b[0;32mIn[58], line 2\u001b[0m, in \u001b[0;36mballistic_motion\u001b[0;34m(v0, theta)\u001b[0m\n\u001b[1;32m      1\u001b[0m \u001b[38;5;28;01mdef\u001b[39;00m \u001b[38;5;21mballistic_motion\u001b[39m(v0, theta):\n\u001b[0;32m----> 2\u001b[0m     theta \u001b[38;5;241m=\u001b[39m \u001b[43mmath\u001b[49m\u001b[38;5;241;43m.\u001b[39;49m\u001b[43mradians\u001b[49m\u001b[43m(\u001b[49m\u001b[43mtheta\u001b[49m\u001b[43m)\u001b[49m\n\u001b[1;32m      3\u001b[0m     g \u001b[38;5;241m=\u001b[39m \u001b[38;5;241m9.8\u001b[39m\n\u001b[1;32m      4\u001b[0m     \u001b[38;5;66;03m# range of the projectile\u001b[39;00m\n",
      "\u001b[0;31mTypeError\u001b[0m: only length-1 arrays can be converted to Python scalars"
     ]
    }
   ],
   "source": [
    "theta = np.linspace(0,)\n",
    "x, y = ballistic_motion(5,theta)"
   ]
  },
  {
   "cell_type": "code",
   "execution_count": 63,
   "id": "f0c6a18b-5320-4284-8fb9-d597b39d7b66",
   "metadata": {},
   "outputs": [
    {
     "data": {
      "text/plain": [
       "[<matplotlib.lines.Line2D at 0x7faac90ec0d0>]"
      ]
     },
     "execution_count": 63,
     "metadata": {},
     "output_type": "execute_result"
    },
    {
     "data": {
      "image/png": "[encoded data removed]",
      "text/plain": [
       "<Figure size 640x480 with 1 Axes>"
      ]
     },
     "metadata": {},
     "output_type": "display_data"
    }
   ],
   "source": [
    "plt.plot(x, y)"
   ]
  },
  {
   "cell_type": "code",
   "execution_count": null,
   "id": "7944b66e-7f03-449f-82c0-522e5eea3848",
   "metadata": {},
   "outputs": [],
   "source": []
  },
  {
   "cell_type": "code",
   "execution_count": null,
   "id": "236c7de5-a0aa-41b0-9ad9-265415688954",
   "metadata": {},
   "outputs": [],
   "source": []
  },
  {
   "cell_type": "code",
   "execution_count": null,
   "id": "4a9743f0-03c1-43fb-82dc-ccfad0ca6b82",
   "metadata": {},
   "outputs": [],
   "source": []
  }
 ],
 "metadata": {
  "kernelspec": {
   "display_name": "Python 3 (ipykernel)",
   "language": "python",
   "name": "python3"
  },
  "language_info": {
   "codemirror_mode": {
    "name": "ipython",
    "version": 3
   },
   "file_extension": ".py",
   "mimetype": "text/x-python",
   "name": "python",
   "nbconvert_exporter": "python",
   "pygments_lexer": "ipython3",
   "version": "3.10.18"
  }
 },
 "nbformat": 4,
 "nbformat_minor": 5
}
