{
 "cells": [
  {
   "cell_type": "markdown",
   "id": "64812acb-b3e6-4b91-85cb-2437ee6307e8",
   "metadata": {},
   "source": [
    "# 004 - Palindrome Checker"
   ]
  },
  {
   "cell_type": "code",
   "execution_count": 8,
   "id": "9a7fac6c-800b-4d58-94b4-9f00c7a9afcf",
   "metadata": {},
   "outputs": [
    {
     "name": "stdout",
     "output_type": "stream",
     "text": [
      "True\n",
      "False\n",
      "True\n",
      "False\n"
     ]
    }
   ],
   "source": [
    "def is_palindrome(s):\n",
    "    # implementation\n",
    "    for i in range(len(s)//2):\n",
    "        if s[i] == s[-(i+1)]:\n",
    "            return True\n",
    "        else:\n",
    "            return False\n",
    "\n",
    "# Test cases\n",
    "print(is_palindrome(\"racecar\"))  # Expected output: True\n",
    "print(is_palindrome(\"hello\"))    # Expected output: False\n",
    "print(is_palindrome(\"repaper\"))\n",
    "print(is_palindrome(\"gnome\"))"
   ]
  },
  {
   "cell_type": "code",
   "execution_count": null,
   "id": "acd1721d-7cfd-47c5-8e9a-f5e001621cfe",
   "metadata": {},
   "outputs": [],
   "source": []
  }
 ],
 "metadata": {
  "kernelspec": {
   "display_name": "Python 3 (ipykernel)",
   "language": "python",
   "name": "python3"
  },
  "language_info": {
   "codemirror_mode": {
    "name": "ipython",
    "version": 3
   },
   "file_extension": ".py",
   "mimetype": "text/x-python",
   "name": "python",
   "nbconvert_exporter": "python",
   "pygments_lexer": "ipython3",
   "version": "3.10.18"
  }
 },
 "nbformat": 4,
 "nbformat_minor": 5
}
