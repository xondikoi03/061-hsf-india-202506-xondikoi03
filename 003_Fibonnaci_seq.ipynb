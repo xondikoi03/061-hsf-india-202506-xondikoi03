{
 "cells": [
  {
   "cell_type": "markdown",
   "id": "52d39479-893a-4a53-930d-36440329c65a",
   "metadata": {},
   "source": [
    "# 003 Fibonacci Sequence - The mistake"
   ]
  },
  {
   "cell_type": "markdown",
   "id": "92269134-fe83-4772-b396-61977b9fff63",
   "metadata": {},
   "source": [
    "The mistake in the following code is that the for loop starts from 0 rather than 1 so it considers i=0 to be the first number and then $fib\\_seq[0] = 0$ and $fib\\_seq[0-1] = 1$. So it adds 0 to 1 and just prints 1. And when i=1 $fib\\_seq[1] = 1$ and $fib\\_seq[1-1] = 0$. That sums up to 1 again \n"
   ]
  },
  {
   "cell_type": "code",
   "execution_count": 7,
   "id": "b33c276a-206a-43ee-bce0-dffe80bf503a",
   "metadata": {},
   "outputs": [
    {
     "name": "stdout",
     "output_type": "stream",
     "text": [
      "[0, 1, 1, 1, 2, 2, 3, 4, 5, 7]\n"
     ]
    }
   ],
   "source": [
    "def fibonacci(n):\n",
    "    fib_seq = [0, 1]\n",
    "    for i in range(0, n):\n",
    "        fib_seq.append(fib_seq[i] + fib_seq[i-1])\n",
    "    return fib_seq[:n]\n",
    "print(fibonacci(10))\n"
   ]
  },
  {
   "cell_type": "markdown",
   "id": "a202b01a-2fe2-4598-be6f-8fa338b14b6d",
   "metadata": {},
   "source": [
    "# The corrected version:"
   ]
  },
  {
   "cell_type": "code",
   "execution_count": 8,
   "id": "bd9e3ad8-c613-473a-abaf-6e251bc9b63a",
   "metadata": {},
   "outputs": [
    {
     "name": "stdout",
     "output_type": "stream",
     "text": [
      "[0, 1, 1, 2, 3, 5, 8, 13, 21, 34]\n"
     ]
    }
   ],
   "source": [
    "def fibonacci(n):\n",
    "    fib_seq = [0, 1]\n",
    "    for i in range(1, n):\n",
    "        fib_seq.append(fib_seq[i] + fib_seq[i-1])\n",
    "    return fib_seq[:n]\n",
    "print(fibonacci(10))"
   ]
  }
 ],
 "metadata": {
  "kernelspec": {
   "display_name": "Python 3 (ipykernel)",
   "language": "python",
   "name": "python3"
  },
  "language_info": {
   "codemirror_mode": {
    "name": "ipython",
    "version": 3
   },
   "file_extension": ".py",
   "mimetype": "text/x-python",
   "name": "python",
   "nbconvert_exporter": "python",
   "pygments_lexer": "ipython3",
   "version": "3.10.18"
  }
 },
 "nbformat": 4,
 "nbformat_minor": 5
}
