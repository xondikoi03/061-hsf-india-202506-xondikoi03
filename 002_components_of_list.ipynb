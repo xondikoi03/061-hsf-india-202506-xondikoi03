{
 "cells": [
  {
   "cell_type": "markdown",
   "id": "43750025-4d22-4299-9b91-a163a5513a5d",
   "metadata": {},
   "source": [
    "# 002-Components of a list\n",
    "\n",
    "Write a simple implementation for the following function to find common elements between two lists:"
   ]
  },
  {
   "cell_type": "code",
   "execution_count": 2,
   "id": "3ca3e17a-3511-4b6a-955c-fbdea5d1435b",
   "metadata": {},
   "outputs": [
    {
     "name": "stdout",
     "output_type": "stream",
     "text": [
      "[4, 5]\n"
     ]
    }
   ],
   "source": [
    "def find_common_elements(list1, list2):\n",
    "    common_elements = []\n",
    "    # ... implement here ...\n",
    "    for i in list1:\n",
    "        for j in list2:\n",
    "            if i == j:\n",
    "                common_elements.append(i)\n",
    "    return common_elements\n",
    "\n",
    "# Test the function\n",
    "list_a = [1, 2, 3, 4, 5]\n",
    "list_b = [4, 5, 6, 7, 8]\n",
    "\n",
    "list_a = [L]\n",
    "common = find_common_elements(list_a, list_b)\n",
    "print(common)"
   ]
  },
  {
   "cell_type": "code",
   "execution_count": null,
   "id": "e18f33bd-aac2-47ca-9ba9-f2bbc41a40fd",
   "metadata": {},
   "outputs": [],
   "source": []
  }
 ],
 "metadata": {
  "kernelspec": {
   "display_name": "Python 3 (ipykernel)",
   "language": "python",
   "name": "python3"
  },
  "language_info": {
   "codemirror_mode": {
    "name": "ipython",
    "version": 3
   },
   "file_extension": ".py",
   "mimetype": "text/x-python",
   "name": "python",
   "nbconvert_exporter": "python",
   "pygments_lexer": "ipython3",
   "version": "3.10.18"
  }
 },
 "nbformat": 4,
 "nbformat_minor": 5
}
