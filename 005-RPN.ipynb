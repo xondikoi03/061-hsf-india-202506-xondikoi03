{
 "cells": [
  {
   "cell_type": "markdown",
   "id": "a546a4eb-7416-4bff-8f50-58f9db04d9fc",
   "metadata": {},
   "source": [
    "# 005 - Reverse Polish Notation (RPN) Calculator"
   ]
  },
  {
   "cell_type": "code",
   "execution_count": 9,
   "id": "001ca33e-a210-4281-b411-61cedac3f424",
   "metadata": {},
   "outputs": [],
   "source": [
    "#string commands\n",
    "add_str = \"+\"\n",
    "sub_str = \"-\"\n",
    "mul_str = \"*\"\n",
    "div_str = \"/\"\n",
    "prt_tot = \"f\"\n",
    "prt_top = \"p\"\n",
    "pop_top = \"P\"\n",
    "clr_stk = \"c\"\n",
    "ext_prg = \"q\""
   ]
  },
  {
   "cell_type": "code",
   "execution_count": 41,
   "id": "b033fe2a-f7ab-4c60-9f20-8893e671da1f",
   "metadata": {},
   "outputs": [
    {
     "name": "stdin",
     "output_type": "stream",
     "text": [
      "Enter the initial value:  3\n",
      "Enter the next value:  2\n",
      "Enter the operation:  +\n",
      "Enter the next value:  1\n",
      "Enter the operation:  q\n"
     ]
    }
   ],
   "source": [
    "counter = 0\n",
    "while(True):\n",
    "    if(counter == 0):\n",
    "        val_1 = input(\"Enter the initial value: \")\n",
    "        counter = counter + 1\n",
    "    else:\n",
    "        val_2 = input(\"Enter the next value: \")  \n",
    "        oper = input(\"Enter the operation: \")  \n",
    "        stack = [0,0]\n",
    "        for i in range(0,1):\n",
    "            stack[-(i+1)] = val_1\n",
    "            stack[i] = val_2\n",
    "            if(oper == add_str):\n",
    "                stack[-(i+1)] = stack[-(i+1)] + stack[i]\n",
    "                # Still have to do it (it's some brainstorming)\n",
    "        if(oper == ext_prg):\n",
    "            break\n",
    "        val_1 = val_2"
   ]
  },
  {
   "cell_type": "code",
   "execution_count": 42,
   "id": "5b691650-9da0-4a5d-9b68-54e1bb72f854",
   "metadata": {},
   "outputs": [
    {
     "name": "stdout",
     "output_type": "stream",
     "text": [
      "['1', '2']\n"
     ]
    }
   ],
   "source": [
    "print(stack)"
   ]
  },
  {
   "cell_type": "code",
   "execution_count": null,
   "id": "1cb62a5d-69c3-40a6-9621-611951ce2aa9",
   "metadata": {},
   "outputs": [],
   "source": []
  }
 ],
 "metadata": {
  "kernelspec": {
   "display_name": "Python 3 (ipykernel)",
   "language": "python",
   "name": "python3"
  },
  "language_info": {
   "codemirror_mode": {
    "name": "ipython",
    "version": 3
   },
   "file_extension": ".py",
   "mimetype": "text/x-python",
   "name": "python",
   "nbconvert_exporter": "python",
   "pygments_lexer": "ipython3",
   "version": "3.10.18"
  }
 },
 "nbformat": 4,
 "nbformat_minor": 5
}
